{
 "cells": [
  {
   "cell_type": "code",
   "execution_count": null,
   "metadata": {},
   "outputs": [],
   "source": [
    "import cv2\n",
    "import numpy as np\n",
    "from tensorflow.keras.models import load_model\n",
    "model = load_model(\"3-Conv-100-Nodes-2-Dense-CNN-Printed-Digits\")"
   ]
  },
  {
   "cell_type": "code",
   "execution_count": null,
   "metadata": {},
   "outputs": [],
   "source": [
    "def Read(Image_List):\n",
    "    global model\n",
    "    \n",
    "    Grid = [[0]*9 for _ in range(9)]\n",
    "\n",
    "    for i,img in enumerate(Image_List):\n",
    "        blur = cv2.medianBlur(img,5)\n",
    "        gray = cv2.cvtColor(blur,cv2.COLOR_BGR2GRAY)\n",
    "        thresh = cv2.adaptiveThreshold(gray,255,cv2.ADAPTIVE_THRESH_GAUSSIAN_C,cv2.THRESH_BINARY,27,6)\n",
    "        thresh = cv2.bitwise_not(thresh,mask=None)    \n",
    "\n",
    "        kernel = cv2.getStructuringElement(cv2.MORPH_ELLIPSE,(1,1))\n",
    "        thresh = cv2.morphologyEx(thresh,cv2.MORPH_CROSS,kernel,iterations = 2)\n",
    "\n",
    "        contours, _ = cv2.findContours(thresh,cv2.RETR_EXTERNAL, cv2.CHAIN_APPROX_NONE)\n",
    "        contours.sort(key = cv2.contourArea)\n",
    "        if len(contours):\n",
    "            x,y,w,h = cv2.boundingRect(contours[0])\n",
    "            if w*h >= 9 and w>=3 and h>=3:\n",
    "                thresh = thresh[y:y+h,x:x+w]\n",
    "                thresh = cv2.resize(thresh,(20,20),interpolation = cv2.INTER_NEAREST)\n",
    "                digit = model.predict(thresh.reshape(-1,20,20,1) / 255.0)[0]\n",
    "                Index = np.argmax(digit)\n",
    "                Grid[i//9][i%9] = Index\n",
    "    return Grid"
   ]
  }
 ],
 "metadata": {
  "kernelspec": {
   "display_name": "Python 3",
   "language": "python",
   "name": "python3"
  },
  "language_info": {
   "codemirror_mode": {
    "name": "ipython",
    "version": 3
   },
   "file_extension": ".py",
   "mimetype": "text/x-python",
   "name": "python",
   "nbconvert_exporter": "python",
   "pygments_lexer": "ipython3",
   "version": "3.8.5"
  }
 },
 "nbformat": 4,
 "nbformat_minor": 4
}
