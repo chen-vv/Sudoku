{
 "cells": [
  {
   "cell_type": "code",
   "execution_count": null,
   "metadata": {},
   "outputs": [],
   "source": [
    "import cv2\n",
    "import numpy as np\n",
    "import urllib.request\n",
    "import Sudoku_Grabber\n",
    "import Sudoku_Reader\n",
    "import Sudoku_Solver"
   ]
  },
  {
   "cell_type": "code",
   "execution_count": null,
   "metadata": {
    "scrolled": true
   },
   "outputs": [],
   "source": [
    "URL = \"http://192.168.43.1:8080/shot.jpg\"\n",
    "\n",
    "Solved = False\n",
    "while True:\n",
    "    img_arr = np.array(bytearray(urllib.request.urlopen(URL).read()),dtype=np.uint8)\n",
    "    img = cv2.imdecode(img_arr,-1)\n",
    "    img = img[200:1000,200:1000]\n",
    "            \n",
    "    Image_List, Centres = Sudoku_Grabber.Grab(img)\n",
    "    if not Image_List:\n",
    "        Empty_Cells = []\n",
    "        Solved = False\n",
    "    elif not Solved:\n",
    "        Grid = Sudoku_Reader.Read(Image_List)\n",
    "        Solution, Empty_Cells = Sudoku_Solver.Solve(Grid)\n",
    "        if Solution:\n",
    "            Solved = True\n",
    "        else:\n",
    "            Empty_Cells = []\n",
    "    for i,j in Empty_Cells:\n",
    "        origin = (Centres[i*9+j][0]-15,Centres[i*9+j][1]+15)\n",
    "        img = cv2.putText(img,str(Solution[i][j]),origin,cv2.FONT_HERSHEY_SIMPLEX,1.5,(0,255,0), 2, cv2.LINE_AA)\n",
    "\n",
    "    cv2.imshow(\"Live Video Feed\",img)\n",
    "    if cv2.waitKey(1) == 27:\n",
    "        break\n",
    "        \n",
    "cv2.destroyAllWindows()"
   ]
  }
 ],
 "metadata": {
  "kernelspec": {
   "display_name": "Python 3",
   "language": "python",
   "name": "python3"
  },
  "language_info": {
   "codemirror_mode": {
    "name": "ipython",
    "version": 3
   },
   "file_extension": ".py",
   "mimetype": "text/x-python",
   "name": "python",
   "nbconvert_exporter": "python",
   "pygments_lexer": "ipython3",
   "version": "3.8.5"
  }
 },
 "nbformat": 4,
 "nbformat_minor": 4
}
