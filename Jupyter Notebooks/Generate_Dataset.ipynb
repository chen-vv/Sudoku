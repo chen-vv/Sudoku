{
 "cells": [
  {
   "cell_type": "code",
   "execution_count": null,
   "metadata": {},
   "outputs": [],
   "source": [
    "import warnings\n",
    "warnings.simplefilter(\"ignore\")\n",
    "\n",
    "import os\n",
    "import random\n",
    "import pickle\n",
    "import numpy as np\n",
    "import pandas as pd\n",
    "from matplotlib import pyplot as plt"
   ]
  },
  {
   "cell_type": "code",
   "execution_count": null,
   "metadata": {},
   "outputs": [],
   "source": [
    "Training_Data = []\n",
    "\n",
    "for File in os.listdir(\"Fonts\"):\n",
    "    df = pd.read_csv(os.path.join(\"Fonts\",File))\n",
    "    df = df[df[\"m_label\"].isin(list(range(ord('0'),ord('9')+1)))]\n",
    "    df.reset_index(inplace=True)\n",
    "    for row in df.index:\n",
    "        img = list(df.loc[row,\"r0c0\":\"r19c19\"])\n",
    "        Image = []\n",
    "        for i in range(0,39,2):\n",
    "            Image.append(img[i*10:(i+2)*10])\n",
    "        img = np.array(Image,np.uint8)\n",
    "        Training_Data.append([img,df[\"m_label\"][row]-ord('0')])\n",
    "\n",
    "random.shuffle(Training_Data)"
   ]
  },
  {
   "cell_type": "code",
   "execution_count": null,
   "metadata": {},
   "outputs": [],
   "source": [
    "for img,target in Training_Data[:50]:\n",
    "    plt.imshow(img,cmap='gray',interpolation = 'nearest')\n",
    "    plt.title(\"Target: \"+str(target))\n",
    "    plt.show()"
   ]
  },
  {
   "cell_type": "code",
   "execution_count": null,
   "metadata": {},
   "outputs": [],
   "source": [
    "x_train = []\n",
    "y_train = []\n",
    "\n",
    "random.shuffle(Training_Data)\n",
    "for x,y in Training_Data:\n",
    "    x_train.append(x)\n",
    "    y_train.append(y)"
   ]
  },
  {
   "cell_type": "code",
   "execution_count": null,
   "metadata": {},
   "outputs": [],
   "source": [
    "with open('x_train.pickle', 'wb') as p:\n",
    "    pickle.dump(x_train, p)\n",
    "with open('y_train.pickle', 'wb') as p:\n",
    "    pickle.dump(y_train, p)"
   ]
  }
 ],
 "metadata": {
  "kernelspec": {
   "display_name": "Python 3",
   "language": "python",
   "name": "python3"
  },
  "language_info": {
   "codemirror_mode": {
    "name": "ipython",
    "version": 3
   },
   "file_extension": ".py",
   "mimetype": "text/x-python",
   "name": "python",
   "nbconvert_exporter": "python",
   "pygments_lexer": "ipython3",
   "version": "3.8.5"
  }
 },
 "nbformat": 4,
 "nbformat_minor": 4
}
